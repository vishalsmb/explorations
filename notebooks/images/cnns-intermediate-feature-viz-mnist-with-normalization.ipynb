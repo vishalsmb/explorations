{
 "cells": [
  {
   "cell_type": "code",
   "execution_count": 1,
   "metadata": {
    "ExecuteTime": {
     "end_time": "2024-05-23T10:38:14.165802Z",
     "start_time": "2024-05-23T10:38:10.942782Z"
    }
   },
   "outputs": [
    {
     "name": "stderr",
     "output_type": "stream",
     "text": [
      "2024-05-23 16:08:12.149377: I tensorflow/core/platform/cpu_feature_guard.cc:182] This TensorFlow binary is optimized to use available CPU instructions in performance-critical operations.\n",
      "To enable the following instructions: SSE4.1 SSE4.2, in other operations, rebuild TensorFlow with the appropriate compiler flags.\n"
     ]
    }
   ],
   "source": [
    "from tensorflow import keras\n",
    "import os\n",
    "from tqdm import tqdm\n",
    "import shutil\n",
    "import tensorflow as tf\n",
    "from tensorflow.keras.layers import Input, Dense, Conv2D, MaxPooling2D, Flatten, Rescaling\n",
    "from tensorflow.keras.optimizers import Adam\n",
    "from tensorflow.keras.models import Model, Sequential\n",
    "import matplotlib.pyplot as plt\n",
    "import numpy as np"
   ]
  },
  {
   "cell_type": "code",
   "execution_count": 2,
   "metadata": {
    "collapsed": false,
    "jupyter": {
     "outputs_hidden": false
    },
    "ExecuteTime": {
     "end_time": "2024-05-23T10:38:14.285766Z",
     "start_time": "2024-05-23T10:38:14.165001Z"
    }
   },
   "outputs": [],
   "source": [
    "(x_train, y_train), (x_test, y_test) = keras.datasets.mnist.load_data()"
   ]
  },
  {
   "cell_type": "code",
   "execution_count": 3,
   "outputs": [],
   "source": [
    "x_train = x_train.reshape(-1, 28, 28, 1).astype('float32') / 255.0 # adds a dimension in the end\n",
    "x_test = x_test.reshape(-1, 28, 28, 1).astype('float32') / 255.0\n",
    "# y_train = tf.keras.utils.to_categorical(y_train, 10)\n",
    "# y_test = tf.keras.utils.to_categorical(y_test, 10)"
   ],
   "metadata": {
    "collapsed": false,
    "ExecuteTime": {
     "end_time": "2024-05-23T10:38:14.362199Z",
     "start_time": "2024-05-23T10:38:14.286554Z"
    }
   }
  },
  {
   "cell_type": "code",
   "execution_count": 4,
   "metadata": {
    "collapsed": false,
    "jupyter": {
     "outputs_hidden": false
    },
    "ExecuteTime": {
     "end_time": "2024-05-23T10:38:14.381095Z",
     "start_time": "2024-05-23T10:38:14.375327Z"
    }
   },
   "outputs": [],
   "source": [
    "y_train = tf.one_hot(y_train, 10)\n",
    "y_test = tf.one_hot(y_test, 10)"
   ]
  },
  {
   "cell_type": "markdown",
   "metadata": {
    "collapsed": false,
    "jupyter": {
     "outputs_hidden": false
    }
   },
   "source": [
    "Sequential"
   ]
  },
  {
   "cell_type": "code",
   "execution_count": 5,
   "metadata": {
    "collapsed": false,
    "jupyter": {
     "outputs_hidden": false
    },
    "ExecuteTime": {
     "end_time": "2024-05-23T10:38:14.431633Z",
     "start_time": "2024-05-23T10:38:14.384642Z"
    }
   },
   "outputs": [],
   "source": [
    "mnist_model = Sequential([\n",
    "    Input(shape = (28, 28, 1)),\n",
    "    Conv2D(16, 3, activation='relu'),\n",
    "    MaxPooling2D(2),\n",
    "    Flatten(),\n",
    "    Dense(10, activation='softmax')\n",
    "])"
   ]
  },
  {
   "cell_type": "code",
   "execution_count": 6,
   "metadata": {
    "collapsed": false,
    "jupyter": {
     "outputs_hidden": false
    },
    "ExecuteTime": {
     "end_time": "2024-05-23T10:38:14.431900Z",
     "start_time": "2024-05-23T10:38:14.420005Z"
    }
   },
   "outputs": [],
   "source": [
    "mnist_model.compile(\n",
    "    loss='categorical_crossentropy',\n",
    "    metrics='accuracy',\n",
    "    optimizer='adam'\n",
    ")"
   ]
  },
  {
   "cell_type": "code",
   "execution_count": 7,
   "metadata": {
    "collapsed": false,
    "jupyter": {
     "outputs_hidden": false
    },
    "ExecuteTime": {
     "end_time": "2024-05-23T10:38:20.969632Z",
     "start_time": "2024-05-23T10:38:14.430757Z"
    }
   },
   "outputs": [
    {
     "name": "stdout",
     "output_type": "stream",
     "text": [
      "1875/1875 [==============================] - 6s 3ms/step - loss: 0.2496 - accuracy: 0.9298 - val_loss: 0.1139 - val_accuracy: 0.9647\n"
     ]
    },
    {
     "data": {
      "text/plain": "<keras.callbacks.History at 0x1b195b690>"
     },
     "execution_count": 7,
     "metadata": {},
     "output_type": "execute_result"
    }
   ],
   "source": [
    "mnist_model.fit(x_train, y_train, epochs = 1, validation_data=(x_test, y_test))"
   ]
  },
  {
   "cell_type": "markdown",
   "metadata": {
    "ExecuteTime": {
     "end_time": "2024-05-23T08:08:58.492051Z",
     "start_time": "2024-05-23T08:08:58.402706Z"
    },
    "collapsed": false,
    "jupyter": {
     "outputs_hidden": false
    }
   },
   "source": [
    "Functional API"
   ]
  },
  {
   "cell_type": "code",
   "execution_count": 8,
   "metadata": {
    "collapsed": false,
    "jupyter": {
     "outputs_hidden": false
    },
    "ExecuteTime": {
     "end_time": "2024-05-23T10:38:20.974306Z",
     "start_time": "2024-05-23T10:38:20.969950Z"
    }
   },
   "outputs": [],
   "source": [
    "num_filters = 8\n",
    "epochs = 3"
   ]
  },
  {
   "cell_type": "code",
   "execution_count": 9,
   "metadata": {
    "collapsed": false,
    "jupyter": {
     "outputs_hidden": false
    },
    "ExecuteTime": {
     "end_time": "2024-05-23T10:38:21.020388Z",
     "start_time": "2024-05-23T10:38:20.974538Z"
    }
   },
   "outputs": [],
   "source": [
    "input_layer = Input(shape = (28, 28, 1))\n",
    "conv2d = Conv2D(num_filters, 3, activation='relu')(input_layer)\n",
    "pooling2d = MaxPooling2D(2)(conv2d)\n",
    "flatten = Flatten()(pooling2d)\n",
    "dense = Dense(10, activation='softmax')(flatten)\n",
    "\n",
    "functional_model = Model(inputs = [input_layer], outputs = [dense])"
   ]
  },
  {
   "cell_type": "code",
   "execution_count": 10,
   "outputs": [
    {
     "name": "stdout",
     "output_type": "stream",
     "text": [
      "Model: \"model\"\n",
      "_________________________________________________________________\n",
      " Layer (type)                Output Shape              Param #   \n",
      "=================================================================\n",
      " input_2 (InputLayer)        [(None, 28, 28, 1)]       0         \n",
      "                                                                 \n",
      " conv2d_1 (Conv2D)           (None, 26, 26, 8)         80        \n",
      "                                                                 \n",
      " max_pooling2d_1 (MaxPooling  (None, 13, 13, 8)        0         \n",
      " 2D)                                                             \n",
      "                                                                 \n",
      " flatten_1 (Flatten)         (None, 1352)              0         \n",
      "                                                                 \n",
      " dense_1 (Dense)             (None, 10)                13530     \n",
      "                                                                 \n",
      "=================================================================\n",
      "Total params: 13,610\n",
      "Trainable params: 13,610\n",
      "Non-trainable params: 0\n",
      "_________________________________________________________________\n"
     ]
    }
   ],
   "source": [
    "functional_model.summary()"
   ],
   "metadata": {
    "collapsed": false,
    "ExecuteTime": {
     "end_time": "2024-05-23T10:38:21.032118Z",
     "start_time": "2024-05-23T10:38:20.992128Z"
    }
   }
  },
  {
   "cell_type": "markdown",
   "source": [
    "Some calculations\n",
    "1. Params explanation\n",
    "    conv2d_1 layer = 3 filters of size (3 * 3) - 27 params + 3 bias params (one for each filter)\n",
    "    dense_1 = Prev layer output - 507 * 10 (output nodes) = 5070 + 10 bias params (one for each output node)\n",
    "2. If Conv2D filter size = 3, width and height output would become 28 - (3-1) = 28 - 3 = 26\n",
    "3. Channel output will be equal to the number of filters\n",
    "4. Each filter will have separate values for each of the channels\n",
    "5. Input : 4, 4, 3 Filters : 6 (each has shape, 3, 3, 3)\n",
    "    For a single filter:\n",
    "        It takes a 3x3x3 cube from the input (one 3x3 patch for each of the 3 channels).\n",
    "        It multiplies each value in this cube by its corresponding weight in the filter.\n",
    "        It sums all these values to produce a single value in the output feature map.\n",
    "6. Mathematically, for each filter 𝑘 k and each position ( 𝑖 , 𝑗 ) (i,j) in the output feature map:\n",
    "<img src=\"assets/cnn equation.png\"/> <br/>\n",
    "Here, input(i+m,j+n,c) represents the value of the input at channel 𝑐 c and position  (i+m,j+n). filter(m,n,c,k) represents the weight at position (m,n) in the filter k for input channel c."
   ],
   "metadata": {
    "collapsed": false
   }
  },
  {
   "cell_type": "code",
   "execution_count": 11,
   "metadata": {
    "collapsed": false,
    "jupyter": {
     "outputs_hidden": false
    },
    "ExecuteTime": {
     "end_time": "2024-05-23T10:38:21.032525Z",
     "start_time": "2024-05-23T10:38:21.003754Z"
    }
   },
   "outputs": [],
   "source": [
    "functional_model.compile(\n",
    "    loss='categorical_crossentropy',\n",
    "    metrics='accuracy',\n",
    "    optimizer='adam'\n",
    ")"
   ]
  },
  {
   "cell_type": "code",
   "execution_count": 12,
   "metadata": {
    "collapsed": false,
    "jupyter": {
     "outputs_hidden": false
    },
    "ExecuteTime": {
     "end_time": "2024-05-23T10:38:38.910894Z",
     "start_time": "2024-05-23T10:38:21.007623Z"
    }
   },
   "outputs": [
    {
     "name": "stdout",
     "output_type": "stream",
     "text": [
      "Epoch 1/3\n",
      "1875/1875 [==============================] - 6s 3ms/step - loss: 0.2789 - accuracy: 0.9215 - val_loss: 0.1337 - val_accuracy: 0.9614\n",
      "Epoch 2/3\n",
      "1875/1875 [==============================] - 6s 3ms/step - loss: 0.1235 - accuracy: 0.9646 - val_loss: 0.0985 - val_accuracy: 0.9714\n",
      "Epoch 3/3\n",
      "1875/1875 [==============================] - 6s 3ms/step - loss: 0.0967 - accuracy: 0.9730 - val_loss: 0.0857 - val_accuracy: 0.9740\n"
     ]
    },
    {
     "data": {
      "text/plain": "<keras.callbacks.History at 0x1b1a12f10>"
     },
     "execution_count": 12,
     "metadata": {},
     "output_type": "execute_result"
    }
   ],
   "source": [
    "functional_model.fit(x_train, y_train, epochs=epochs, validation_data = (x_test, y_test))"
   ]
  },
  {
   "cell_type": "code",
   "execution_count": 13,
   "metadata": {
    "collapsed": false,
    "jupyter": {
     "outputs_hidden": false
    },
    "ExecuteTime": {
     "end_time": "2024-05-23T10:38:38.921564Z",
     "start_time": "2024-05-23T10:38:38.918659Z"
    }
   },
   "outputs": [],
   "source": [
    "intermediate_layers = [x.output for x in functional_model.layers[1:-2]]\n",
    "input_layers = functional_model.layers[0]\n",
    "\n",
    "intermediate_model = Model(inputs = input_layer, outputs = intermediate_layers)"
   ]
  },
  {
   "cell_type": "code",
   "execution_count": 14,
   "metadata": {
    "collapsed": false,
    "jupyter": {
     "outputs_hidden": false
    },
    "ExecuteTime": {
     "end_time": "2024-05-23T10:38:38.921862Z",
     "start_time": "2024-05-23T10:38:38.919059Z"
    }
   },
   "outputs": [],
   "source": [
    "num_images = 5"
   ]
  },
  {
   "cell_type": "code",
   "execution_count": 15,
   "metadata": {
    "collapsed": false,
    "jupyter": {
     "outputs_hidden": false
    },
    "ExecuteTime": {
     "end_time": "2024-05-23T10:38:39.028346Z",
     "start_time": "2024-05-23T10:38:38.919101Z"
    }
   },
   "outputs": [
    {
     "name": "stdout",
     "output_type": "stream",
     "text": [
      "1/1 [==============================] - 0s 43ms/step\n"
     ]
    }
   ],
   "source": [
    "visualized_outputs = intermediate_model.predict(x_test[0:num_images])"
   ]
  },
  {
   "cell_type": "code",
   "execution_count": 16,
   "metadata": {
    "collapsed": false,
    "jupyter": {
     "outputs_hidden": false
    },
    "ExecuteTime": {
     "end_time": "2024-05-23T10:38:39.028692Z",
     "start_time": "2024-05-23T10:38:38.986337Z"
    }
   },
   "outputs": [
    {
     "data": {
      "text/plain": "(28, 28, 1)"
     },
     "execution_count": 16,
     "metadata": {},
     "output_type": "execute_result"
    }
   ],
   "source": [
    "x_test[0].shape"
   ]
  },
  {
   "cell_type": "code",
   "execution_count": 17,
   "metadata": {
    "collapsed": false,
    "jupyter": {
     "outputs_hidden": false
    },
    "ExecuteTime": {
     "end_time": "2024-05-23T10:38:39.568294Z",
     "start_time": "2024-05-23T10:38:38.992138Z"
    }
   },
   "outputs": [
    {
     "data": {
      "text/plain": "<Figure size 1800x1000 with 45 Axes>",
      "image/png": "[encoded data removed]"
     },
     "metadata": {},
     "output_type": "display_data"
    }
   ],
   "source": [
    "fig, ax = plt.subplots(num_images, num_filters + 1, figsize=((num_filters + 1) * 2, num_images * 2))\n",
    "\n",
    "for num in range(0, num_images):\n",
    "    ax[num][0].imshow(x_test[num], cmap='viridis')\n",
    "    ax[num][0].axis('off')\n",
    "    # Iterate over the filters and plot each one\n",
    "    for i in range(1, num_filters + 1):\n",
    "        ax[num][i].imshow(visualized_outputs[0][num][:, :, i - 1    ], cmap='viridis')\n",
    "        ax[num][i].axis('off')\n",
    "        if num == 0:\n",
    "            ax[num][i].set_title(f'Filter {i}')\n",
    "\n",
    "    plt.suptitle('Conv2D output')\n",
    "plt.show()\n"
   ]
  },
  {
   "cell_type": "code",
   "execution_count": 17,
   "outputs": [],
   "source": [],
   "metadata": {
    "collapsed": false,
    "ExecuteTime": {
     "end_time": "2024-05-23T10:38:39.571298Z",
     "start_time": "2024-05-23T10:38:39.567996Z"
    }
   }
  }
 ],
 "metadata": {
  "kernelspec": {
   "display_name": "Python 3 (ipykernel)",
   "language": "python",
   "name": "python3"
  },
  "language_info": {
   "codemirror_mode": {
    "name": "ipython",
    "version": 3
   },
   "file_extension": ".py",
   "mimetype": "text/x-python",
   "name": "python",
   "nbconvert_exporter": "python",
   "pygments_lexer": "ipython3",
   "version": "3.11.3"
  }
 },
 "nbformat": 4,
 "nbformat_minor": 4
}
