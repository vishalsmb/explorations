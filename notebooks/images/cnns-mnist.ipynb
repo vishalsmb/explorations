{
 "cells": [
  {
   "cell_type": "code",
   "execution_count": 96,
   "metadata": {
    "ExecuteTime": {
     "end_time": "2024-05-23T10:00:46.822189Z",
     "start_time": "2024-05-23T10:00:46.789699Z"
    }
   },
   "outputs": [],
   "source": [
    "from tensorflow import keras\n",
    "import os\n",
    "from tqdm import tqdm\n",
    "import shutil\n",
    "import tensorflow as tf\n",
    "from tensorflow.keras.layers import Input, Dense, Conv2D, MaxPooling2D, Flatten, Rescaling\n",
    "from tensorflow.keras.optimizers import Adam\n",
    "from tensorflow.keras.models import Model, Sequential\n",
    "import matplotlib.pyplot as plt\n",
    "import numpy as np"
   ]
  },
  {
   "cell_type": "code",
   "execution_count": 97,
   "metadata": {
    "collapsed": false,
    "jupyter": {
     "outputs_hidden": false
    },
    "ExecuteTime": {
     "end_time": "2024-05-23T10:00:47.224503Z",
     "start_time": "2024-05-23T10:00:47.090789Z"
    }
   },
   "outputs": [],
   "source": [
    "(x_train, y_train), (x_test, y_test) = keras.datasets.mnist.load_data()"
   ]
  },
  {
   "cell_type": "code",
   "execution_count": 97,
   "metadata": {
    "collapsed": false,
    "jupyter": {
     "outputs_hidden": false
    },
    "ExecuteTime": {
     "end_time": "2024-05-23T10:00:47.698953Z",
     "start_time": "2024-05-23T10:00:47.691018Z"
    }
   },
   "outputs": [],
   "source": []
  },
  {
   "cell_type": "code",
   "execution_count": 98,
   "metadata": {
    "collapsed": false,
    "jupyter": {
     "outputs_hidden": false
    },
    "ExecuteTime": {
     "end_time": "2024-05-23T10:00:48.011755Z",
     "start_time": "2024-05-23T10:00:47.994751Z"
    }
   },
   "outputs": [],
   "source": [
    "y_train = tf.one_hot(y_train, 10)\n",
    "y_test = tf.one_hot(y_test, 10)"
   ]
  },
  {
   "cell_type": "markdown",
   "metadata": {
    "collapsed": false,
    "jupyter": {
     "outputs_hidden": false
    }
   },
   "source": [
    "Sequential"
   ]
  },
  {
   "cell_type": "code",
   "execution_count": 99,
   "metadata": {
    "collapsed": false,
    "jupyter": {
     "outputs_hidden": false
    },
    "ExecuteTime": {
     "end_time": "2024-05-23T10:00:48.761869Z",
     "start_time": "2024-05-23T10:00:48.744233Z"
    }
   },
   "outputs": [],
   "source": [
    "mnist_model = Sequential([\n",
    "    Input(shape = (28, 28, 1)),\n",
    "    Conv2D(16, 3, activation='relu'),\n",
    "    MaxPooling2D(2),\n",
    "    Flatten(),\n",
    "    Dense(10, activation='softmax')\n",
    "])"
   ]
  },
  {
   "cell_type": "code",
   "execution_count": 100,
   "metadata": {
    "collapsed": false,
    "jupyter": {
     "outputs_hidden": false
    },
    "ExecuteTime": {
     "end_time": "2024-05-23T10:00:50.014720Z",
     "start_time": "2024-05-23T10:00:49.805031Z"
    }
   },
   "outputs": [],
   "source": [
    "mnist_model.compile(\n",
    "    loss='categorical_crossentropy',\n",
    "    metrics='accuracy',\n",
    "    optimizer='adam'\n",
    ")"
   ]
  },
  {
   "cell_type": "code",
   "execution_count": 103,
   "metadata": {
    "collapsed": false,
    "jupyter": {
     "outputs_hidden": false
    },
    "ExecuteTime": {
     "end_time": "2024-05-23T10:01:12.727426Z",
     "start_time": "2024-05-23T10:01:06.453529Z"
    }
   },
   "outputs": [
    {
     "name": "stdout",
     "output_type": "stream",
     "text": [
      "1875/1875 [==============================] - 6s 3ms/step - loss: 0.1015 - accuracy: 0.9704 - val_loss: 0.1007 - val_accuracy: 0.9704\n"
     ]
    },
    {
     "data": {
      "text/plain": "<keras.callbacks.History at 0x1b5cefb10>"
     },
     "execution_count": 103,
     "metadata": {},
     "output_type": "execute_result"
    }
   ],
   "source": [
    "mnist_model.fit(x_train, y_train, epochs = 1, validation_data=(x_test, y_test))"
   ]
  },
  {
   "cell_type": "markdown",
   "metadata": {
    "ExecuteTime": {
     "end_time": "2024-05-23T08:08:58.492051Z",
     "start_time": "2024-05-23T08:08:58.402706Z"
    },
    "collapsed": false,
    "jupyter": {
     "outputs_hidden": false
    }
   },
   "source": [
    "Functional API"
   ]
  },
  {
   "cell_type": "code",
   "execution_count": 104,
   "metadata": {
    "collapsed": false,
    "jupyter": {
     "outputs_hidden": false
    },
    "ExecuteTime": {
     "end_time": "2024-05-23T10:01:14.205339Z",
     "start_time": "2024-05-23T10:01:14.069946Z"
    }
   },
   "outputs": [],
   "source": [
    "num_filters = 3\n",
    "epochs = 3"
   ]
  },
  {
   "cell_type": "code",
   "execution_count": 105,
   "metadata": {
    "collapsed": false,
    "jupyter": {
     "outputs_hidden": false
    },
    "ExecuteTime": {
     "end_time": "2024-05-23T10:01:14.738987Z",
     "start_time": "2024-05-23T10:01:14.713563Z"
    }
   },
   "outputs": [],
   "source": [
    "input_layer = Input(shape = (28, 28, 1))\n",
    "conv2d = Conv2D(num_filters, 3, activation='relu')(input_layer)\n",
    "pooling2d = MaxPooling2D(2)(conv2d)\n",
    "flatten = Flatten()(pooling2d)\n",
    "dense = Dense(10, activation='softmax')(flatten)\n",
    "\n",
    "functional_model = Model(inputs = [input_layer], outputs = [dense])"
   ]
  },
  {
   "cell_type": "code",
   "execution_count": 106,
   "metadata": {
    "collapsed": false,
    "jupyter": {
     "outputs_hidden": false
    },
    "ExecuteTime": {
     "end_time": "2024-05-23T10:01:15.489792Z",
     "start_time": "2024-05-23T10:01:15.473983Z"
    }
   },
   "outputs": [],
   "source": [
    "functional_model.compile(\n",
    "    loss='categorical_crossentropy',\n",
    "    metrics='accuracy',\n",
    "    optimizer='adam'\n",
    ")"
   ]
  },
  {
   "cell_type": "code",
   "execution_count": 107,
   "metadata": {
    "collapsed": false,
    "jupyter": {
     "outputs_hidden": false
    },
    "ExecuteTime": {
     "end_time": "2024-05-23T10:01:33.755208Z",
     "start_time": "2024-05-23T10:01:16.144665Z"
    }
   },
   "outputs": [
    {
     "name": "stdout",
     "output_type": "stream",
     "text": [
      "Epoch 1/3\n",
      "1875/1875 [==============================] - 6s 3ms/step - loss: 5.2601 - accuracy: 0.8374 - val_loss: 0.8115 - val_accuracy: 0.8962\n",
      "Epoch 2/3\n",
      "1875/1875 [==============================] - 6s 3ms/step - loss: 0.4317 - accuracy: 0.9115 - val_loss: 0.2623 - val_accuracy: 0.9258\n",
      "Epoch 3/3\n",
      "1875/1875 [==============================] - 6s 3ms/step - loss: 0.2118 - accuracy: 0.9377 - val_loss: 0.1892 - val_accuracy: 0.9435\n"
     ]
    },
    {
     "data": {
      "text/plain": "<keras.callbacks.History at 0x1b4000350>"
     },
     "execution_count": 107,
     "metadata": {},
     "output_type": "execute_result"
    }
   ],
   "source": [
    "functional_model.fit(x_train, y_train, epochs=epochs, validation_data = (x_test, y_test))"
   ]
  },
  {
   "cell_type": "code",
   "execution_count": 108,
   "metadata": {
    "collapsed": false,
    "jupyter": {
     "outputs_hidden": false
    },
    "ExecuteTime": {
     "end_time": "2024-05-23T10:01:49.727689Z",
     "start_time": "2024-05-23T10:01:49.709446Z"
    }
   },
   "outputs": [],
   "source": [
    "intermediate_layers = functional_model.layers[1:-2]\n",
    "input_layers = functional_model.layers[0]\n",
    "\n",
    "intermediate_model = Model(inputs = input_layer, outputs = [conv2d, pooling2d])"
   ]
  },
  {
   "cell_type": "code",
   "execution_count": 109,
   "metadata": {
    "collapsed": false,
    "jupyter": {
     "outputs_hidden": false
    },
    "ExecuteTime": {
     "end_time": "2024-05-23T10:01:50.091697Z",
     "start_time": "2024-05-23T10:01:50.085151Z"
    }
   },
   "outputs": [],
   "source": [
    "num_images = 5"
   ]
  },
  {
   "cell_type": "code",
   "execution_count": 110,
   "metadata": {
    "collapsed": false,
    "jupyter": {
     "outputs_hidden": false
    },
    "ExecuteTime": {
     "end_time": "2024-05-23T10:01:50.735020Z",
     "start_time": "2024-05-23T10:01:50.653455Z"
    }
   },
   "outputs": [
    {
     "name": "stdout",
     "output_type": "stream",
     "text": [
      "WARNING:tensorflow:6 out of the last 10 calls to <function Model.make_predict_function.<locals>.predict_function at 0x1b5c86660> triggered tf.function retracing. Tracing is expensive and the excessive number of tracings could be due to (1) creating @tf.function repeatedly in a loop, (2) passing tensors with different shapes, (3) passing Python objects instead of tensors. For (1), please define your @tf.function outside of the loop. For (2), @tf.function has reduce_retracing=True option that can avoid unnecessary retracing. For (3), please refer to https://www.tensorflow.org/guide/function#controlling_retracing and https://www.tensorflow.org/api_docs/python/tf/function for  more details.\n",
      "1/1 [==============================] - 0s 33ms/step\n"
     ]
    }
   ],
   "source": [
    "visualized_outputs = intermediate_model.predict(x_test[0:num_images])"
   ]
  },
  {
   "cell_type": "code",
   "execution_count": 111,
   "metadata": {
    "collapsed": false,
    "jupyter": {
     "outputs_hidden": false
    },
    "ExecuteTime": {
     "end_time": "2024-05-23T10:01:52.175909Z",
     "start_time": "2024-05-23T10:01:52.168852Z"
    }
   },
   "outputs": [
    {
     "data": {
      "text/plain": "(28, 28)"
     },
     "execution_count": 111,
     "metadata": {},
     "output_type": "execute_result"
    }
   ],
   "source": [
    "x_test[0].shape"
   ]
  },
  {
   "cell_type": "code",
   "execution_count": 112,
   "metadata": {
    "collapsed": false,
    "jupyter": {
     "outputs_hidden": false
    },
    "ExecuteTime": {
     "end_time": "2024-05-23T10:01:53.689410Z",
     "start_time": "2024-05-23T10:01:53.444598Z"
    }
   },
   "outputs": [
    {
     "data": {
      "text/plain": "<Figure size 800x1000 with 20 Axes>",
      "image/png": "[encoded data removed]"
     },
     "metadata": {},
     "output_type": "display_data"
    }
   ],
   "source": [
    "fig, ax = plt.subplots(num_images, num_filters + 1, figsize=((num_filters + 1) * 2, num_images * 2))\n",
    "\n",
    "for num in range(0, num_images):\n",
    "    ax[num][0].imshow(x_test[num], cmap='viridis')\n",
    "    ax[num][0].axis('off')\n",
    "    # Iterate over the filters and plot each one\n",
    "    for i in range(1, num_filters + 1):\n",
    "        ax[num][i].imshow(visualized_outputs[0][num][:, :, i - 1    ], cmap='viridis')\n",
    "        ax[num][i].axis('off')\n",
    "        if num == 0:\n",
    "            ax[num][i].set_title(f'Filter {i}')\n",
    "\n",
    "    plt.suptitle('Conv2D output')\n",
    "plt.show()\n"
   ]
  },
  {
   "cell_type": "code",
   "execution_count": null,
   "metadata": {
    "collapsed": false,
    "jupyter": {
     "outputs_hidden": false
    }
   },
   "outputs": [],
   "source": []
  }
 ],
 "metadata": {
  "kernelspec": {
   "display_name": "Python 3 (ipykernel)",
   "language": "python",
   "name": "python3"
  },
  "language_info": {
   "codemirror_mode": {
    "name": "ipython",
    "version": 3
   },
   "file_extension": ".py",
   "mimetype": "text/x-python",
   "name": "python",
   "nbconvert_exporter": "python",
   "pygments_lexer": "ipython3",
   "version": "3.11.3"
  }
 },
 "nbformat": 4,
 "nbformat_minor": 4
}
