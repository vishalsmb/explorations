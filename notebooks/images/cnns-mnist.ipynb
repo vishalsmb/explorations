{
 "cells": [
  {
   "cell_type": "code",
   "execution_count": 1,
   "metadata": {
    "ExecuteTime": {
     "end_time": "2024-05-23T10:06:41.584819Z",
     "start_time": "2024-05-23T10:06:37.911617Z"
    }
   },
   "outputs": [
    {
     "name": "stderr",
     "output_type": "stream",
     "text": [
      "2024-05-23 15:36:39.155505: I tensorflow/core/platform/cpu_feature_guard.cc:182] This TensorFlow binary is optimized to use available CPU instructions in performance-critical operations.\n",
      "To enable the following instructions: SSE4.1 SSE4.2, in other operations, rebuild TensorFlow with the appropriate compiler flags.\n"
     ]
    }
   ],
   "source": [
    "from tensorflow import keras\n",
    "import os\n",
    "from tqdm import tqdm\n",
    "import shutil\n",
    "import tensorflow as tf\n",
    "from tensorflow.keras.layers import Input, Dense, Conv2D, MaxPooling2D, Flatten, Rescaling\n",
    "from tensorflow.keras.optimizers import Adam\n",
    "from tensorflow.keras.models import Model, Sequential\n",
    "import matplotlib.pyplot as plt\n",
    "import numpy as np"
   ]
  },
  {
   "cell_type": "code",
   "execution_count": 2,
   "metadata": {
    "collapsed": false,
    "jupyter": {
     "outputs_hidden": false
    },
    "ExecuteTime": {
     "end_time": "2024-05-23T10:06:41.704228Z",
     "start_time": "2024-05-23T10:06:41.588424Z"
    }
   },
   "outputs": [],
   "source": [
    "(x_train, y_train), (x_test, y_test) = keras.datasets.mnist.load_data()"
   ]
  },
  {
   "cell_type": "code",
   "execution_count": 3,
   "metadata": {
    "collapsed": false,
    "jupyter": {
     "outputs_hidden": false
    },
    "ExecuteTime": {
     "end_time": "2024-05-23T10:06:41.729318Z",
     "start_time": "2024-05-23T10:06:41.720665Z"
    }
   },
   "outputs": [],
   "source": [
    "y_train = tf.one_hot(y_train, 10)\n",
    "y_test = tf.one_hot(y_test, 10)"
   ]
  },
  {
   "cell_type": "markdown",
   "metadata": {
    "collapsed": false,
    "jupyter": {
     "outputs_hidden": false
    }
   },
   "source": [
    "Sequential"
   ]
  },
  {
   "cell_type": "code",
   "execution_count": 4,
   "metadata": {
    "collapsed": false,
    "jupyter": {
     "outputs_hidden": false
    },
    "ExecuteTime": {
     "end_time": "2024-05-23T10:06:41.758983Z",
     "start_time": "2024-05-23T10:06:41.731208Z"
    }
   },
   "outputs": [],
   "source": [
    "mnist_model = Sequential([\n",
    "    Input(shape = (28, 28, 1)),\n",
    "    Conv2D(16, 3, activation='relu'),\n",
    "    MaxPooling2D(2),\n",
    "    Flatten(),\n",
    "    Dense(10, activation='softmax')\n",
    "])"
   ]
  },
  {
   "cell_type": "code",
   "execution_count": 5,
   "metadata": {
    "collapsed": false,
    "jupyter": {
     "outputs_hidden": false
    },
    "ExecuteTime": {
     "end_time": "2024-05-23T10:06:41.767700Z",
     "start_time": "2024-05-23T10:06:41.760436Z"
    }
   },
   "outputs": [],
   "source": [
    "mnist_model.compile(\n",
    "    loss='categorical_crossentropy',\n",
    "    metrics='accuracy',\n",
    "    optimizer='adam'\n",
    ")"
   ]
  },
  {
   "cell_type": "code",
   "execution_count": 6,
   "metadata": {
    "collapsed": false,
    "jupyter": {
     "outputs_hidden": false
    },
    "ExecuteTime": {
     "end_time": "2024-05-23T10:06:48.366784Z",
     "start_time": "2024-05-23T10:06:41.769940Z"
    }
   },
   "outputs": [
    {
     "name": "stdout",
     "output_type": "stream",
     "text": [
      "1875/1875 [==============================] - 7s 3ms/step - loss: 0.4559 - accuracy: 0.9348 - val_loss: 0.1452 - val_accuracy: 0.9575\n"
     ]
    },
    {
     "data": {
      "text/plain": "<keras.callbacks.History at 0x1b22a0610>"
     },
     "execution_count": 6,
     "metadata": {},
     "output_type": "execute_result"
    }
   ],
   "source": [
    "mnist_model.fit(x_train, y_train, epochs = 1, validation_data=(x_test, y_test))"
   ]
  },
  {
   "cell_type": "markdown",
   "metadata": {
    "ExecuteTime": {
     "end_time": "2024-05-23T08:08:58.492051Z",
     "start_time": "2024-05-23T08:08:58.402706Z"
    },
    "collapsed": false,
    "jupyter": {
     "outputs_hidden": false
    }
   },
   "source": [
    "Functional API"
   ]
  },
  {
   "cell_type": "code",
   "execution_count": 7,
   "metadata": {
    "collapsed": false,
    "jupyter": {
     "outputs_hidden": false
    },
    "ExecuteTime": {
     "end_time": "2024-05-23T10:06:48.371399Z",
     "start_time": "2024-05-23T10:06:48.367479Z"
    }
   },
   "outputs": [],
   "source": [
    "num_filters = 3\n",
    "epochs = 3"
   ]
  },
  {
   "cell_type": "code",
   "execution_count": 41,
   "metadata": {
    "collapsed": false,
    "jupyter": {
     "outputs_hidden": false
    },
    "ExecuteTime": {
     "end_time": "2024-05-23T10:14:11.482399Z",
     "start_time": "2024-05-23T10:14:11.456630Z"
    }
   },
   "outputs": [],
   "source": [
    "input_layer = Input(shape = (28, 28, 1))\n",
    "conv2d = Conv2D(num_filters, 3, activation='relu')(input_layer)\n",
    "pooling2d = MaxPooling2D(2)(conv2d)\n",
    "flatten = Flatten()(pooling2d)\n",
    "dense = Dense(10, activation='softmax')(flatten)\n",
    "\n",
    "functional_model = Model(inputs = [input_layer], outputs = [dense])"
   ]
  },
  {
   "cell_type": "code",
   "execution_count": 42,
   "outputs": [
    {
     "name": "stdout",
     "output_type": "stream",
     "text": [
      "Model: \"model_12\"\n",
      "_________________________________________________________________\n",
      " Layer (type)                Output Shape              Param #   \n",
      "=================================================================\n",
      " input_13 (InputLayer)       [(None, 28, 28, 1)]       0         \n",
      "                                                                 \n",
      " conv2d_12 (Conv2D)          (None, 26, 26, 3)         30        \n",
      "                                                                 \n",
      " max_pooling2d_12 (MaxPoolin  (None, 13, 13, 3)        0         \n",
      " g2D)                                                            \n",
      "                                                                 \n",
      " flatten_12 (Flatten)        (None, 507)               0         \n",
      "                                                                 \n",
      " dense_12 (Dense)            (None, 10)                5080      \n",
      "                                                                 \n",
      "=================================================================\n",
      "Total params: 5,110\n",
      "Trainable params: 5,110\n",
      "Non-trainable params: 0\n",
      "_________________________________________________________________\n"
     ]
    }
   ],
   "source": [
    "functional_model.summary()"
   ],
   "metadata": {
    "collapsed": false,
    "ExecuteTime": {
     "end_time": "2024-05-23T10:14:12.448045Z",
     "start_time": "2024-05-23T10:14:12.339576Z"
    }
   }
  },
  {
   "cell_type": "markdown",
   "source": [
    "Some calculations\n",
    "1. Params explanation\n",
    "    conv2d_1 layer = 3 filters of size (3 * 3) - 27 params + 3 bias params (one for each filter)\n",
    "    dense_1 = Prev layer output - 507 * 10 (output nodes) = 5070 + 10 bias params (one for each output node)\n",
    "2. If Conv2D filter size = 3, width and height output would become 28 - (3-1) = 28 - 3 = 26\n",
    "3. Channel output will be equal to the number of filters\n",
    "4. Each filter will have separate values for each of the channels\n",
    "5. Input : 4, 4, 3 Filters : 6 (each has shape, 3, 3, 3)\n",
    "    For a single filter:\n",
    "        It takes a 3x3x3 cube from the input (one 3x3 patch for each of the 3 channels).\n",
    "        It multiplies each value in this cube by its corresponding weight in the filter.\n",
    "        It sums all these values to produce a single value in the output feature map.\n",
    "6. Mathematically, for each filter 𝑘 k and each position ( 𝑖 , 𝑗 ) (i,j) in the output feature map:\n",
    "<img src=\"assets/cnn equation.png\"/> <br/>\n",
    "Here, input(i+m,j+n,c) represents the value of the input at channel 𝑐 c and position  (i+m,j+n). filter(m,n,c,k) represents the weight at position (m,n) in the filter k for input channel c."
   ],
   "metadata": {
    "collapsed": false
   }
  },
  {
   "cell_type": "code",
   "execution_count": 9,
   "metadata": {
    "collapsed": false,
    "jupyter": {
     "outputs_hidden": false
    },
    "ExecuteTime": {
     "end_time": "2024-05-23T10:06:48.444386Z",
     "start_time": "2024-05-23T10:06:48.399790Z"
    }
   },
   "outputs": [],
   "source": [
    "functional_model.compile(\n",
    "    loss='categorical_crossentropy',\n",
    "    metrics='accuracy',\n",
    "    optimizer='adam'\n",
    ")"
   ]
  },
  {
   "cell_type": "code",
   "execution_count": 10,
   "metadata": {
    "collapsed": false,
    "jupyter": {
     "outputs_hidden": false
    },
    "ExecuteTime": {
     "end_time": "2024-05-23T10:07:05.726600Z",
     "start_time": "2024-05-23T10:06:48.400080Z"
    }
   },
   "outputs": [
    {
     "name": "stdout",
     "output_type": "stream",
     "text": [
      "Epoch 1/3\n",
      "1875/1875 [==============================] - 6s 3ms/step - loss: 4.0933 - accuracy: 0.8520 - val_loss: 0.4548 - val_accuracy: 0.9235\n",
      "Epoch 2/3\n",
      "1875/1875 [==============================] - 6s 3ms/step - loss: 0.2752 - accuracy: 0.9357 - val_loss: 0.1815 - val_accuracy: 0.9497\n",
      "Epoch 3/3\n",
      "1875/1875 [==============================] - 6s 3ms/step - loss: 0.1640 - accuracy: 0.9521 - val_loss: 0.1669 - val_accuracy: 0.9507\n"
     ]
    },
    {
     "data": {
      "text/plain": "<keras.callbacks.History at 0x1b254a3d0>"
     },
     "execution_count": 10,
     "metadata": {},
     "output_type": "execute_result"
    }
   ],
   "source": [
    "functional_model.fit(x_train, y_train, epochs=epochs, validation_data = (x_test, y_test))"
   ]
  },
  {
   "cell_type": "code",
   "execution_count": 11,
   "metadata": {
    "collapsed": false,
    "jupyter": {
     "outputs_hidden": false
    },
    "ExecuteTime": {
     "end_time": "2024-05-23T10:07:05.731199Z",
     "start_time": "2024-05-23T10:07:05.712841Z"
    }
   },
   "outputs": [],
   "source": [
    "intermediate_layers = [x.output for x in functional_model.layers[1:-2]]\n",
    "input_layers = functional_model.layers[0]\n",
    "\n",
    "intermediate_model = Model(inputs = input_layer, outputs = intermediate_layers)"
   ]
  },
  {
   "cell_type": "code",
   "execution_count": 12,
   "metadata": {
    "collapsed": false,
    "jupyter": {
     "outputs_hidden": false
    },
    "ExecuteTime": {
     "end_time": "2024-05-23T10:07:05.731476Z",
     "start_time": "2024-05-23T10:07:05.723619Z"
    }
   },
   "outputs": [],
   "source": [
    "num_images = 5"
   ]
  },
  {
   "cell_type": "code",
   "execution_count": 13,
   "metadata": {
    "collapsed": false,
    "jupyter": {
     "outputs_hidden": false
    },
    "ExecuteTime": {
     "end_time": "2024-05-23T10:07:05.870249Z",
     "start_time": "2024-05-23T10:07:05.724289Z"
    }
   },
   "outputs": [
    {
     "name": "stdout",
     "output_type": "stream",
     "text": [
      "1/1 [==============================] - 0s 45ms/step\n"
     ]
    }
   ],
   "source": [
    "visualized_outputs = intermediate_model.predict(x_test[0:num_images])"
   ]
  },
  {
   "cell_type": "code",
   "execution_count": 14,
   "metadata": {
    "collapsed": false,
    "jupyter": {
     "outputs_hidden": false
    },
    "ExecuteTime": {
     "end_time": "2024-05-23T10:07:05.871856Z",
     "start_time": "2024-05-23T10:07:05.789925Z"
    }
   },
   "outputs": [
    {
     "data": {
      "text/plain": "(28, 28)"
     },
     "execution_count": 14,
     "metadata": {},
     "output_type": "execute_result"
    }
   ],
   "source": [
    "x_test[0].shape"
   ]
  },
  {
   "cell_type": "code",
   "execution_count": 15,
   "metadata": {
    "collapsed": false,
    "jupyter": {
     "outputs_hidden": false
    },
    "ExecuteTime": {
     "end_time": "2024-05-23T10:07:06.125310Z",
     "start_time": "2024-05-23T10:07:05.794715Z"
    }
   },
   "outputs": [
    {
     "data": {
      "text/plain": "<Figure size 800x1000 with 20 Axes>",
      "image/png": "[encoded data removed]"
     },
     "metadata": {},
     "output_type": "display_data"
    }
   ],
   "source": [
    "fig, ax = plt.subplots(num_images, num_filters + 1, figsize=((num_filters + 1) * 2, num_images * 2))\n",
    "\n",
    "for num in range(0, num_images):\n",
    "    ax[num][0].imshow(x_test[num], cmap='viridis')\n",
    "    ax[num][0].axis('off')\n",
    "    # Iterate over the filters and plot each one\n",
    "    for i in range(1, num_filters + 1):\n",
    "        ax[num][i].imshow(visualized_outputs[0][num][:, :, i - 1    ], cmap='viridis')\n",
    "        ax[num][i].axis('off')\n",
    "        if num == 0:\n",
    "            ax[num][i].set_title(f'Filter {i}')\n",
    "\n",
    "    plt.suptitle('Conv2D output')\n",
    "plt.show()\n"
   ]
  },
  {
   "cell_type": "code",
   "execution_count": 15,
   "metadata": {
    "collapsed": false,
    "jupyter": {
     "outputs_hidden": false
    },
    "ExecuteTime": {
     "end_time": "2024-05-23T10:07:06.125882Z",
     "start_time": "2024-05-23T10:07:06.121649Z"
    }
   },
   "outputs": [],
   "source": []
  }
 ],
 "metadata": {
  "kernelspec": {
   "display_name": "Python 3 (ipykernel)",
   "language": "python",
   "name": "python3"
  },
  "language_info": {
   "codemirror_mode": {
    "name": "ipython",
    "version": 3
   },
   "file_extension": ".py",
   "mimetype": "text/x-python",
   "name": "python",
   "nbconvert_exporter": "python",
   "pygments_lexer": "ipython3",
   "version": "3.11.3"
  }
 },
 "nbformat": 4,
 "nbformat_minor": 4
}
